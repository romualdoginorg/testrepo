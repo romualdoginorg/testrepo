{
 "cells": [
  {
   "cell_type": "markdown",
   "metadata": {},
   "source": [
    "# Ferramentas para Ciências de Dados e Ecossistema"
   ]
  },
  {
   "cell_type": "markdown",
   "metadata": {},
   "source": [
    "Nas ciências de dados temos ferramentas para permitir desenvolvimentos como:\n",
    "> JupyterLab , Jupyter Notebook , TensorFlow.\n",
    ">\n",
    "armazenando e realizando gerenciamentos de dados:\n",
    "> mysql , postgreSQL , mongoDB\n",
    ">\n",
    "integrando e transformando:\n",
    "> apache kafka , apache spark\n",
    ">\n",
    "permitindo um visualizacao gráfica:\n",
    "> hue , kibana\n",
    "\n",
    "\n",
    "Devido uma ampla inserção em diferentes áreas de atuação permeando entre o mundo da matemática, estatística, negócios, ciências da computação, derivando em tecnologias para os campos de machine learning, pesquisa, e desenvolvimento de software.\n",
    "\n"
   ]
  },
  {
   "cell_type": "markdown",
   "metadata": {},
   "source": [
    "**objetivos:**\n",
    "* demonstar exito em acessar o Jupyter\n",
    "* manupulação de arquivo\n",
    "* inserção de markdown\n",
    "* inserção de codigos em python\n",
    "* seguir roteiros guiados para montar apresentações\n"
   ]
  },
  {
   "cell_type": "markdown",
   "metadata": {},
   "source": [
    "#### Algumas das linguagens populares que os Cientistas de Dados usam são:\n",
    "\n",
    "1. Python \n",
    "2. R \n",
    "3. SQL \n",
    "4. Julia"
   ]
  },
  {
   "cell_type": "markdown",
   "metadata": {},
   "source": [
    "#### Algumas das bibliotecas comumente usadas por Cientistas de Dados incluem:\n",
    "\n",
    "1. NumPy \n",
    "2. Pandas \n",
    "3. Matplotlib \n",
    "4. Plotly \n",
    "5. Keras"
   ]
  },
  {
   "cell_type": "markdown",
   "metadata": {},
   "source": [
    "#### OpenSources\n",
    "| Ferramentas de Ciência de Dados  |\n",
    "| ----------------- |\n",
    "| JupyterLab        |\n",
    "| Jupyter Notebook  |\n",
    "| TensorFlow        |\n"
   ]
  },
  {
   "cell_type": "markdown",
   "metadata": {},
   "source": [
    "### Abaixo estão alguns exemplos de avaliação de expressões aritméticas em Python"
   ]
  },
  {
   "cell_type": "code",
   "execution_count": 1,
   "metadata": {},
   "outputs": [
    {
     "data": {
      "text/plain": [
       "17"
      ]
     },
     "execution_count": 1,
     "metadata": {},
     "output_type": "execute_result"
    }
   ],
   "source": [
    "#Esta é uma expressão aritmética simples para multiplicar e depois adicionar inteiros\n",
    "(3*4)+5"
   ]
  },
  {
   "cell_type": "code",
   "execution_count": 2,
   "metadata": {},
   "outputs": [
    {
     "data": {
      "text/plain": [
       "3.3333333333333335"
      ]
     },
     "execution_count": 2,
     "metadata": {},
     "output_type": "execute_result"
    }
   ],
   "source": [
    "#Isso converterá 200 minutos em horas dividindo por 60\n",
    "200/60"
   ]
  },
  {
   "cell_type": "markdown",
   "metadata": {},
   "source": [
    "## Autor\n",
    "Romualdo Gino Ramos Gonçalves"
   ]
  },
  {
   "cell_type": "markdown",
   "metadata": {},
   "source": [
    "## acesse o repositório\n",
    "[Link para o repositório](https://github.com/romualdoginorg/testrepo/blob/main/DataScienceEcosystem.ipynb)"
   ]
  }
 ],
 "metadata": {
  "kernelspec": {
   "display_name": "Python 3",
   "language": "python",
   "name": "python3"
  },
  "language_info": {
   "codemirror_mode": {
    "name": "ipython",
    "version": 3
   },
   "file_extension": ".py",
   "mimetype": "text/x-python",
   "name": "python",
   "nbconvert_exporter": "python",
   "pygments_lexer": "ipython3",
   "version": "3.12.1"
  }
 },
 "nbformat": 4,
 "nbformat_minor": 2
}
